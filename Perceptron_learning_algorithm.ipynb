{
 "cells": [
  {
   "attachments": {},
   "cell_type": "markdown",
   "metadata": {},
   "source": [
    "# Gen data"
   ]
  },
  {
   "cell_type": "code",
   "execution_count": 17,
   "metadata": {},
   "outputs": [],
   "source": [
    "# generate data\n",
    "# list of points \n",
    "import numpy as np \n",
    "import matplotlib.pyplot as plt\n",
    "from scipy.spatial.distance import cdist\n",
    "np.random.seed(2)\n"
   ]
  },
  {
   "cell_type": "code",
   "execution_count": 18,
   "metadata": {},
   "outputs": [],
   "source": [
    "means = [[2, 2], [4, 2]]\n",
    "cov = [[.3, .2], [.2, .3]]\n",
    "N = 10\n",
    "X0 = np.random.multivariate_normal(means[0], cov, N).T\n",
    "X1 = np.random.multivariate_normal(means[1], cov, N).T"
   ]
  },
  {
   "cell_type": "code",
   "execution_count": 19,
   "metadata": {},
   "outputs": [
    {
     "data": {
      "text/plain": [
       "array([[2.22096057, 2.70132234, 3.08493823, 2.02701417, 2.73223639,\n",
       "        1.21171968, 2.22920603, 1.8637762 , 1.74682699, 2.37191737],\n",
       "       [2.19579728, 3.43487375, 2.70849736, 1.47010441, 2.32571583,\n",
       "        2.23682627, 1.72925457, 1.59716548, 2.27230351, 2.37595358]])"
      ]
     },
     "execution_count": 19,
     "metadata": {},
     "output_type": "execute_result"
    }
   ],
   "source": [
    "X0"
   ]
  },
  {
   "cell_type": "code",
   "execution_count": 20,
   "metadata": {},
   "outputs": [
    {
     "data": {
      "text/plain": [
       "array([[4.47403369, 4.09281249, 4.22222334, 4.58438569, 4.74493118,\n",
       "        3.6355797 , 5.19217738, 3.51075436, 3.93784332, 3.8787214 ],\n",
       "       [2.4040742 , 1.65061706, 2.11659863, 2.05326933, 2.67628604,\n",
       "        2.63347726, 3.2425902 , 2.11880111, 1.56029947, 2.12126884]])"
      ]
     },
     "execution_count": 20,
     "metadata": {},
     "output_type": "execute_result"
    }
   ],
   "source": [
    "X1"
   ]
  },
  {
   "cell_type": "code",
   "execution_count": 21,
   "metadata": {},
   "outputs": [],
   "source": [
    "X = np.concatenate((X0, X1), axis = 1)\n",
    "y = np.concatenate((np.ones((1, N)), -1*np.ones((1, N))), axis = 1)"
   ]
  },
  {
   "cell_type": "code",
   "execution_count": 22,
   "metadata": {},
   "outputs": [
    {
     "data": {
      "text/plain": [
       "array([[2.22096057, 2.70132234, 3.08493823, 2.02701417, 2.73223639,\n",
       "        1.21171968, 2.22920603, 1.8637762 , 1.74682699, 2.37191737,\n",
       "        4.47403369, 4.09281249, 4.22222334, 4.58438569, 4.74493118,\n",
       "        3.6355797 , 5.19217738, 3.51075436, 3.93784332, 3.8787214 ],\n",
       "       [2.19579728, 3.43487375, 2.70849736, 1.47010441, 2.32571583,\n",
       "        2.23682627, 1.72925457, 1.59716548, 2.27230351, 2.37595358,\n",
       "        2.4040742 , 1.65061706, 2.11659863, 2.05326933, 2.67628604,\n",
       "        2.63347726, 3.2425902 , 2.11880111, 1.56029947, 2.12126884]])"
      ]
     },
     "execution_count": 22,
     "metadata": {},
     "output_type": "execute_result"
    }
   ],
   "source": [
    "X"
   ]
  },
  {
   "cell_type": "code",
   "execution_count": 23,
   "metadata": {},
   "outputs": [
    {
     "data": {
      "text/plain": [
       "array([[ 1.,  1.,  1.,  1.,  1.,  1.,  1.,  1.,  1.,  1., -1., -1., -1.,\n",
       "        -1., -1., -1., -1., -1., -1., -1.]])"
      ]
     },
     "execution_count": 23,
     "metadata": {},
     "output_type": "execute_result"
    }
   ],
   "source": [
    "y"
   ]
  },
  {
   "cell_type": "code",
   "execution_count": 24,
   "metadata": {},
   "outputs": [],
   "source": [
    "X = np.concatenate((np.ones((1, 2*N)), X), axis = 0)"
   ]
  },
  {
   "cell_type": "code",
   "execution_count": 25,
   "metadata": {},
   "outputs": [
    {
     "data": {
      "text/plain": [
       "array([[1.        , 1.        , 1.        , 1.        , 1.        ,\n",
       "        1.        , 1.        , 1.        , 1.        , 1.        ,\n",
       "        1.        , 1.        , 1.        , 1.        , 1.        ,\n",
       "        1.        , 1.        , 1.        , 1.        , 1.        ],\n",
       "       [2.22096057, 2.70132234, 3.08493823, 2.02701417, 2.73223639,\n",
       "        1.21171968, 2.22920603, 1.8637762 , 1.74682699, 2.37191737,\n",
       "        4.47403369, 4.09281249, 4.22222334, 4.58438569, 4.74493118,\n",
       "        3.6355797 , 5.19217738, 3.51075436, 3.93784332, 3.8787214 ],\n",
       "       [2.19579728, 3.43487375, 2.70849736, 1.47010441, 2.32571583,\n",
       "        2.23682627, 1.72925457, 1.59716548, 2.27230351, 2.37595358,\n",
       "        2.4040742 , 1.65061706, 2.11659863, 2.05326933, 2.67628604,\n",
       "        2.63347726, 3.2425902 , 2.11880111, 1.56029947, 2.12126884]])"
      ]
     },
     "execution_count": 25,
     "metadata": {},
     "output_type": "execute_result"
    }
   ],
   "source": [
    "X"
   ]
  },
  {
   "cell_type": "code",
   "execution_count": 26,
   "metadata": {},
   "outputs": [],
   "source": [
    "def h(w, x):    \n",
    "    return np.sign(np.dot(w.T, x))\n",
    "\n",
    "def has_converged(X, y, w):    \n",
    "    return np.array_equal(h(w, X), y) \n",
    "\n",
    "def perceptron(X, y, w_init):\n",
    "    w = [w_init]\n",
    "    N = X.shape[1]\n",
    "    d = X.shape[0]\n",
    "    mis_points = []\n",
    "    while True:\n",
    "        # mix data \n",
    "        mix_id = np.random.permutation(N)\n",
    "        for i in range(N):\n",
    "            xi = X[:, mix_id[i]].reshape(d, 1)\n",
    "            yi = y[0, mix_id[i]]\n",
    "            if h(w[-1], xi)[0] != yi: # misclassified point\n",
    "                mis_points.append(mix_id[i])\n",
    "                w_new = w[-1] + yi*xi \n",
    "                w.append(w_new)\n",
    "                \n",
    "        if has_converged(X, y, w[-1]):\n",
    "            break\n",
    "    return (w, mis_points)"
   ]
  },
  {
   "cell_type": "code",
   "execution_count": 27,
   "metadata": {},
   "outputs": [],
   "source": [
    "d = X.shape[0]\n",
    "w_init = np.random.randn(d, 1)\n",
    "(w, m) = perceptron(X, y, w_init)"
   ]
  },
  {
   "cell_type": "code",
   "execution_count": 31,
   "metadata": {},
   "outputs": [
    {
     "data": {
      "text/plain": [
       "[array([[-0.3135082 ],\n",
       "        [ 0.77101174],\n",
       "        [-1.86809065]]),\n",
       " array([[ 0.6864918 ],\n",
       "        [ 2.63478794],\n",
       "        [-0.27092518]]),\n",
       " array([[-0.3135082 ],\n",
       "        [-1.83924575],\n",
       "        [-2.67499938]]),\n",
       " array([[ 0.6864918 ],\n",
       "        [ 0.38171482],\n",
       "        [-0.4792021 ]]),\n",
       " array([[-0.3135082 ],\n",
       "        [-3.5561285 ],\n",
       "        [-2.03950157]]),\n",
       " array([[ 0.6864918 ],\n",
       "        [-1.52911433],\n",
       "        [-0.56939716]]),\n",
       " array([[1.6864918 ],\n",
       "        [0.7000917 ],\n",
       "        [1.15985741]]),\n",
       " array([[ 0.6864918 ],\n",
       "        [-4.04483948],\n",
       "        [-1.51642863]]),\n",
       " array([[ 1.6864918 ],\n",
       "        [-1.67292211],\n",
       "        [ 0.85952495]]),\n",
       " array([[2.6864918 ],\n",
       "        [0.19085409],\n",
       "        [2.45669043]]),\n",
       " array([[ 1.6864918 ],\n",
       "        [-3.31990027],\n",
       "        [ 0.33788932]]),\n",
       " array([[ 2.6864918],\n",
       "        [-1.0989397],\n",
       "        [ 2.5336866]]),\n",
       " array([[ 1.6864918 ],\n",
       "        [-4.9776611 ],\n",
       "        [ 0.41241776]]),\n",
       " array([[ 2.6864918 ],\n",
       "        [-2.95064692],\n",
       "        [ 1.88252217]]),\n",
       " array([[3.6864918 ],\n",
       "        [0.1342913 ],\n",
       "        [4.59101953]]),\n",
       " array([[ 2.6864918 ],\n",
       "        [-4.08793204],\n",
       "        [ 2.4744209 ]]),\n",
       " array([[ 3.6864918 ],\n",
       "        [-1.858726  ],\n",
       "        [ 4.20367547]]),\n",
       " array([[ 2.6864918 ],\n",
       "        [-5.9515385 ],\n",
       "        [ 2.55305842]]),\n",
       " array([[ 3.6864918 ],\n",
       "        [-4.08776229],\n",
       "        [ 4.1502239 ]])]"
      ]
     },
     "execution_count": 31,
     "metadata": {},
     "output_type": "execute_result"
    }
   ],
   "source": [
    "w"
   ]
  },
  {
   "cell_type": "code",
   "execution_count": 32,
   "metadata": {},
   "outputs": [
    {
     "data": {
      "text/plain": [
       "[7, 10, 0, 18, 3, 6, 14, 9, 7, 17, 0, 19, 3, 2, 12, 6, 11, 7]"
      ]
     },
     "execution_count": 32,
     "metadata": {},
     "output_type": "execute_result"
    }
   ],
   "source": [
    "m"
   ]
  },
  {
   "cell_type": "code",
   "execution_count": 34,
   "metadata": {},
   "outputs": [],
   "source": [
    "def draw_line(w):\n",
    "    w0, w1, w2 = w[0], w[1], w[2]\n",
    "    if w2 != 0:\n",
    "        x11, x12 = -100, 100\n",
    "        return plt.plot([x11, x12], [-(w1*x11 + w0)/w2, -(w1*x12 + w0)/w2], 'k')\n",
    "    else:\n",
    "        x10 = -w0/w1\n",
    "        return plt.plot([x10, x10], [-100, 100], 'k')\n"
   ]
  },
  {
   "cell_type": "code",
   "execution_count": 35,
   "metadata": {},
   "outputs": [
    {
     "name": "stderr",
     "output_type": "stream",
     "text": [
      "MovieWriter imagemagick unavailable; using Pillow instead.\n"
     ]
    },
    {
     "data": {
      "image/png": "[encoded data removed]",
      "text/plain": [
       "<Figure size 500x500 with 1 Axes>"
      ]
     },
     "metadata": {},
     "output_type": "display_data"
    }
   ],
   "source": [
    "## Visualization\n",
    "import matplotlib.animation as animation\n",
    "from matplotlib.animation import FuncAnimation \n",
    "def viz_alg_1d_2(w):\n",
    "    it = len(w)    \n",
    "    fig, ax = plt.subplots(figsize=(5, 5))  \n",
    "    \n",
    "    def update(i):\n",
    "        ani = plt.cla()\n",
    "        #points\n",
    "        ani = plt.plot(X0[0, :], X0[1, :], 'b^', markersize = 8, alpha = .8)\n",
    "        ani = plt.plot(X1[0, :], X1[1, :], 'ro', markersize = 8, alpha = .8)\n",
    "        ani = plt.axis([0 , 6, -2, 4])\n",
    "        i2 =  i if i < it else it-1\n",
    "        ani = draw_line(w[i2])\n",
    "        if i < it-1:\n",
    "            # draw one  misclassified point\n",
    "            circle = plt.Circle((X[1, m[i]], X[2, m[i]]), 0.15, color='k', fill = False)\n",
    "            ax.add_artist(circle)\n",
    "        # hide axis \n",
    "        cur_axes = plt.gca()\n",
    "        cur_axes.axes.get_xaxis().set_ticks([])\n",
    "        cur_axes.axes.get_yaxis().set_ticks([])\n",
    "\n",
    "        label = 'PLA: iter %d/%d' %(i2, it-1)\n",
    "        ax.set_xlabel(label)\n",
    "        return ani, ax \n",
    "        \n",
    "    anim = FuncAnimation(fig, update, frames=np.arange(0, it + 2), interval=1000)\n",
    "    # save \n",
    "    anim.save('pla_vis.gif', dpi = 100, writer = 'imagemagick')\n",
    "    plt.show()\n",
    "    \n",
    "viz_alg_1d_2(w)"
   ]
  },
  {
   "cell_type": "code",
   "execution_count": null,
   "metadata": {},
   "outputs": [],
   "source": []
  }
 ],
 "metadata": {
  "kernelspec": {
   "display_name": "Python 3",
   "language": "python",
   "name": "python3"
  },
  "language_info": {
   "codemirror_mode": {
    "name": "ipython",
    "version": 3
   },
   "file_extension": ".py",
   "mimetype": "text/x-python",
   "name": "python",
   "nbconvert_exporter": "python",
   "pygments_lexer": "ipython3",
   "version": "3.10.6"
  },
  "orig_nbformat": 4
 },
 "nbformat": 4,
 "nbformat_minor": 2
}

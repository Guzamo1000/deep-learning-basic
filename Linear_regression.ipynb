{
 "cells": [
  {
   "cell_type": "markdown",
   "metadata": {},
   "source": [
    "# Gradient descent"
   ]
  },
  {
   "cell_type": "markdown",
   "metadata": {},
   "source": [
    "## Logic:\n",
    "### 1. Khởi tạo giá trị x = x0 tùy ý\n",
    "### 2. Gán x = x - learning_rate * f’(x) ( learning_rate là hằng số dương ví dụ learning_rate = 0.001)\n",
    "### 3. Tính lại f(x): Nếu f(x) đủ nhỏ thì dừng lại, ngược lại tiếp tục bước 2"
   ]
  },
  {
   "cell_type": "code",
   "execution_count": 83,
   "metadata": {},
   "outputs": [
    {
     "name": "stdout",
     "output_type": "stream",
     "text": [
      "[64.0, 40.96000000000001, 26.2144, 16.777216, 10.73741824, 6.871947673600001, 4.398046511104002, 2.8147497671065613, 1.801439850948199, 1.1529215046068475, 0.7378697629483825, 0.47223664828696477, 0.3022314549036574, 0.19342813113834073, 0.12379400392853807, 0.07922816251426434, 0.050706024009129186, 0.03245185536584268, 0.020769187434139313, 0.013292279957849162, 0.008507059173023463, 0.0054445178707350165, 0.00348449143727041, 0.002230074519853063, 0.0014272476927059603, 0.0009134385233318147, 0.0005846006549323614, 0.0003741444191567113, 0.00023945242826029522, 0.00015324955408658894, 9.807971461541694e-05, 6.277101735386685e-05, 4.017345110647478e-05, 2.5711008708143864e-05, 1.645504557321207e-05, 1.0531229166855727e-05, 6.739986666787666e-06, 4.313591466744106e-06, 2.7606985387162283e-06, 1.7668470647783858e-06, 1.1307821214581668e-06, 7.237005577332268e-07, 4.631683569492651e-07, 2.9642774844752964e-07, 1.8971375900641897e-07, 1.2141680576410815e-07, 7.77067556890292e-08, 4.973232364097869e-08, 3.182868713022636e-08, 2.0370359763344873e-08, 1.3037030248540721e-08, 8.34369935906606e-09, 5.339967589802279e-09, 3.417579257473459e-09, 2.1872507247830133e-09, 1.3998404638611285e-09, 8.958978968711224e-10, 5.733746539975183e-10, 3.669597785584117e-10, 2.3485425827738353e-10, 1.5030672529752548e-10, 9.619630419041632e-11, 6.156563468186643e-11, 3.9402006196394516e-11, 2.521728396569249e-11, 1.6139061738043196e-11, 1.0328999512347646e-11, 6.610559687902492e-12, 4.230758200257595e-12, 2.707685248164861e-12, 1.7329185588255109e-12, 1.109067877648327e-12, 7.098034416949293e-13, 4.542742026847547e-13, 2.907354897182431e-13, 1.8607071341967557e-13, 1.1908525658859237e-13, 7.62145642166991e-14, 4.8777321098687425e-14, 3.121748550315995e-14, 1.9979190722022372e-14, 1.2786682062094318e-14, 8.183476519740364e-15, 5.237424972633833e-15, 3.3519519824856534e-15, 2.145249268790818e-15, 1.3729595320261236e-15, 8.78694100496719e-16, 5.623642243179002e-16, 3.5991310356345614e-16, 2.3034438628061196e-16, 1.4742040721959166e-16, 9.434906062053866e-17, 6.038339879714475e-17, 3.8645375230172643e-17, 2.4733040147310494e-17, 1.5829145694278713e-17, 1.0130653244338376e-17, 6.483618076376561e-18, 4.1495155688809995e-18]\n"
     ]
    },
    {
     "data": {
      "image/png": "[encoded data removed]",
      "text/plain": [
       "<Figure size 432x288 with 1 Axes>"
      ]
     },
     "metadata": {
      "needs_background": "light"
     },
     "output_type": "display_data"
    }
   ],
   "source": [
    "# tinh toan voi ham f(x)=x^2\n",
    "import numpy\n",
    "import matplotlib.pyplot as plt\n",
    "\n",
    "\n",
    "x=10\n",
    "y=[]\n",
    "for i in range(100):\n",
    "    x=x-0.1*2*x\n",
    "    y.append(x**2)\n",
    "    # print(y)\n",
    "print(y)\n",
    "plt.plot(y)\n",
    "plt.xlabel('Số lần')\n",
    "plt.ylabel('f(x)')\n",
    "plt.title('Giá trị f(x) sau số lần thực hiện bước 2')\n",
    "plt.show()"
   ]
  },
  {
   "cell_type": "markdown",
   "metadata": {},
   "source": [
    "# Du doan gia nha"
   ]
  },
  {
   "cell_type": "code",
   "execution_count": 84,
   "metadata": {},
   "outputs": [],
   "source": [
    "import numpy as np\n",
    "import pandas as pd\n",
    "import matplotlib.pyplot as plt"
   ]
  },
  {
   "cell_type": "code",
   "execution_count": 85,
   "metadata": {},
   "outputs": [
    {
     "data": {
      "text/plain": [
       "array([[  30.    ,  448.524 ],\n",
       "       [  32.4138,  509.248 ],\n",
       "       [  34.8276,  535.104 ],\n",
       "       [  37.2414,  551.432 ],\n",
       "       [  39.6552,  623.418 ],\n",
       "       [  42.069 ,  625.992 ],\n",
       "       [  44.4828,  655.248 ],\n",
       "       [  46.8966,  701.377 ],\n",
       "       [  49.3103,  748.918 ],\n",
       "       [  51.7241,  757.881 ],\n",
       "       [  54.1379,  831.004 ],\n",
       "       [  56.5517,  855.409 ],\n",
       "       [  58.9655,  866.707 ],\n",
       "       [  61.3793,  902.545 ],\n",
       "       [  63.7931,  952.261 ],\n",
       "       [  66.2069,  995.531 ],\n",
       "       [  68.6207, 1069.78  ],\n",
       "       [  71.0345, 1074.42  ],\n",
       "       [  73.4483, 1103.88  ],\n",
       "       [  75.8621, 1138.69  ],\n",
       "       [  78.2759, 1153.13  ],\n",
       "       [  80.6897, 1240.27  ],\n",
       "       [  83.1034, 1251.9   ],\n",
       "       [  85.5172, 1287.97  ],\n",
       "       [  87.931 , 1320.47  ],\n",
       "       [  90.3448, 1374.92  ],\n",
       "       [  92.7586, 1410.16  ],\n",
       "       [  95.1724, 1469.69  ],\n",
       "       [  97.5862, 1478.54  ],\n",
       "       [ 100.    , 1515.28  ]])"
      ]
     },
     "execution_count": 85,
     "metadata": {},
     "output_type": "execute_result"
    }
   ],
   "source": [
    "#Read data from file\n",
    "data=pd.read_csv(\"/home/hauuu/Desktop/deep learning/DL_Tutorial/L1/data_linear.csv\").values\n",
    "data"
   ]
  },
  {
   "cell_type": "code",
   "execution_count": 86,
   "metadata": {},
   "outputs": [
    {
     "name": "stdout",
     "output_type": "stream",
     "text": [
      "(30, 1)\n"
     ]
    }
   ],
   "source": [
    "#Read data from file\n",
    "\n",
    "N=data.shape[0]\n",
    "x=data[:,0].reshape(-1,1)\n",
    "y=data[:,1].reshape(-1,1)\n",
    "print(x.shape)"
   ]
  },
  {
   "cell_type": "code",
   "execution_count": 87,
   "metadata": {},
   "outputs": [
    {
     "data": {
      "image/png": "[encoded data removed]",
      "text/plain": [
       "<Figure size 432x288 with 1 Axes>"
      ]
     },
     "metadata": {
      "needs_background": "light"
     },
     "output_type": "display_data"
    }
   ],
   "source": [
    "#Show plot\n",
    "plt.scatter(x,y)\n",
    "plt.xlabel(\"M^2\")\n",
    "plt.ylabel(\"price\")\n",
    "plt.show()"
   ]
  },
  {
   "cell_type": "code",
   "execution_count": 88,
   "metadata": {},
   "outputs": [
    {
     "name": "stdout",
     "output_type": "stream",
     "text": [
      "[[  1.      30.    ]\n",
      " [  1.      32.4138]\n",
      " [  1.      34.8276]\n",
      " [  1.      37.2414]\n",
      " [  1.      39.6552]\n",
      " [  1.      42.069 ]\n",
      " [  1.      44.4828]\n",
      " [  1.      46.8966]\n",
      " [  1.      49.3103]\n",
      " [  1.      51.7241]\n",
      " [  1.      54.1379]\n",
      " [  1.      56.5517]\n",
      " [  1.      58.9655]\n",
      " [  1.      61.3793]\n",
      " [  1.      63.7931]\n",
      " [  1.      66.2069]\n",
      " [  1.      68.6207]\n",
      " [  1.      71.0345]\n",
      " [  1.      73.4483]\n",
      " [  1.      75.8621]\n",
      " [  1.      78.2759]\n",
      " [  1.      80.6897]\n",
      " [  1.      83.1034]\n",
      " [  1.      85.5172]\n",
      " [  1.      87.931 ]\n",
      " [  1.      90.3448]\n",
      " [  1.      92.7586]\n",
      " [  1.      95.1724]\n",
      " [  1.      97.5862]\n",
      " [  1.     100.    ]]\n",
      "[[0.]\n",
      " [1.]]\n"
     ]
    }
   ],
   "source": [
    "#Matrix encoding\n",
    "# x(30,1)=>x(30,2)\n",
    "# w=>w(2,1)\n",
    "\n",
    "x=np.hstack((np.ones((N,1)),x))\n",
    "w=np.array([0.,1.]).reshape(-1,1)\n",
    "print(x)\n",
    "print(w)"
   ]
  },
  {
   "cell_type": "code",
   "execution_count": 89,
   "metadata": {},
   "outputs": [],
   "source": [
    "#Initialize calculated values\n",
    "numOfIteration = 100\n",
    "cost = np.zeros((numOfIteration,1))\n",
    "learning_rate=0.00000001\n",
    "for i in range(1,numOfIteration):\n",
    "    r=np.dot(x,w)-y #(w0+W1*x-y)\n",
    "    cost[i]=0.5*np.sum(r**2) #1/2*sum(f'(x))\n",
    "    w[0]-=learning_rate*np.sum(r) #gradient descent\n",
    "    w[1]-= learning_rate*np.sum(np.multiply(r,x[:,1].reshape(-1,1))) #gradient descent\n",
    "predict=np.dot(x,w)\n"
   ]
  },
  {
   "cell_type": "code",
   "execution_count": 90,
   "metadata": {},
   "outputs": [
    {
     "data": {
      "text/plain": [
       "array([[0.0254391 ],\n",
       "       [2.82578387]])"
      ]
     },
     "execution_count": 90,
     "metadata": {},
     "output_type": "execute_result"
    }
   ],
   "source": [
    "w"
   ]
  },
  {
   "cell_type": "code",
   "execution_count": 91,
   "metadata": {},
   "outputs": [],
   "source": [
    "x=50\n",
    "y=w[0]+w[1]*x"
   ]
  },
  {
   "cell_type": "code",
   "execution_count": null,
   "metadata": {},
   "outputs": [],
   "source": []
  }
 ],
 "metadata": {
  "kernelspec": {
   "display_name": "Python 3.10.4 64-bit",
   "language": "python",
   "name": "python3"
  },
  "language_info": {
   "codemirror_mode": {
    "name": "ipython",
    "version": 3
   },
   "file_extension": ".py",
   "mimetype": "text/x-python",
   "name": "python",
   "nbconvert_exporter": "python",
   "pygments_lexer": "ipython3",
   "version": "3.10.4"
  },
  "orig_nbformat": 4,
  "vscode": {
   "interpreter": {
    "hash": "916dbcbb3f70747c44a77c7bcd40155683ae19c65e1c03b4aa3499c5328201f1"
   }
  }
 },
 "nbformat": 4,
 "nbformat_minor": 2
}
